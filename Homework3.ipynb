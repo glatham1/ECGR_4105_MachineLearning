{
  "nbformat": 4,
  "nbformat_minor": 0,
  "metadata": {
    "colab": {
      "provenance": [],
      "authorship_tag": "ABX9TyPwlGlAzevKBKuTWeqPalJ/",
      "include_colab_link": true
    },
    "kernelspec": {
      "name": "python3",
      "display_name": "Python 3"
    },
    "language_info": {
      "name": "python"
    }
  },
  "cells": [
    {
      "cell_type": "markdown",
      "metadata": {
        "id": "view-in-github",
        "colab_type": "text"
      },
      "source": [
        "<a href=\"https://colab.research.google.com/github/glatham1/ECGR_4105_MachineLearning/blob/main/Homework3.ipynb\" target=\"_parent\"><img src=\"https://colab.research.google.com/assets/colab-badge.svg\" alt=\"Open In Colab\"/></a>"
      ]
    },
    {
      "cell_type": "code",
      "execution_count": 7,
      "metadata": {
        "colab": {
          "base_uri": "https://localhost:8080/",
          "height": 541
        },
        "id": "Cn-h1GC3E8ti",
        "outputId": "04d61cf1-4a70-46fe-db88-b098243e32c5"
      },
      "outputs": [
        {
          "output_type": "stream",
          "name": "stdout",
          "text": [
            "Accuracy:  0.8246753246753247\n",
            "Precision:  0.7631578947368421\n",
            "Recall:  0.6170212765957447\n",
            "F1 Score:  0.6823529411764706\n"
          ]
        },
        {
          "output_type": "display_data",
          "data": {
            "text/plain": [
              "<Figure size 640x480 with 2 Axes>"
            ],
            "image/png": "[encoded data removed]"
          },
          "metadata": {}
        }
      ],
      "source": [
        "# Problem 1\n",
        "\n",
        "import pandas as pd\n",
        "from sklearn.model_selection import train_test_split\n",
        "from sklearn.preprocessing import StandardScaler\n",
        "from sklearn.linear_model import LogisticRegression\n",
        "from sklearn.metrics import accuracy_score, precision_score, recall_score, f1_score, confusion_matrix\n",
        "import matplotlib.pyplot as plt\n",
        "import seaborn as sns\n",
        "\n",
        "# Load the data\n",
        "df = pd.read_csv('diabetes.csv')\n",
        "X = df.drop('Outcome', axis=1)\n",
        "y = df['Outcome']\n",
        "\n",
        "# Split the dataset\n",
        "X_train, X_test, y_train, y_test = train_test_split(X, y, test_size=0.20, random_state=0)\n",
        "\n",
        "# Pre-process the data\n",
        "scaler = StandardScaler()\n",
        "X_train_scaled = scaler.fit_transform(X_train)\n",
        "X_test_scaled = scaler.transform(X_test)\n",
        "\n",
        "# Build the logistic regression model\n",
        "clf = LogisticRegression(max_iter=1000)\n",
        "\n",
        "# Train the model\n",
        "clf.fit(X_train_scaled, y_train)\n",
        "y_pred = clf.predict(X_test_scaled)\n",
        "\n",
        "# Report the results\n",
        "print(\"Accuracy: \", accuracy_score(y_test, y_pred))\n",
        "print(\"Precision: \", precision_score(y_test, y_pred))\n",
        "print(\"Recall: \", recall_score(y_test, y_pred))\n",
        "print(\"F1 Score: \", f1_score(y_test, y_pred))\n",
        "\n",
        "# Plotting the confusion matrix\n",
        "conf_mat = confusion_matrix(y_test, y_pred)\n",
        "sns.heatmap(conf_mat, annot=True, fmt='d', cmap='Blues')\n",
        "plt.xlabel('Predicted labels')\n",
        "plt.ylabel('True labels')\n",
        "plt.title('Confusion Matrix')\n",
        "plt.show()\n"
      ]
    },
    {
      "cell_type": "code",
      "source": [
        "# Problem 2\n",
        "\n",
        "import pandas as pd\n",
        "from sklearn.model_selection import train_test_split\n",
        "from sklearn.preprocessing import StandardScaler\n",
        "from sklearn.linear_model import LogisticRegression\n",
        "from sklearn.metrics import accuracy_score, precision_score, recall_score, f1_score, confusion_matrix\n",
        "import matplotlib.pyplot as plt\n",
        "import seaborn as sns\n",
        "from sklearn.impute import SimpleImputer\n",
        "\n",
        "# Load the cancer dataset\n",
        "df_cancer = pd.read_csv('cancer.csv')\n",
        "df_cancer['diagnosis'] = df_cancer['diagnosis'].map({'M': 1, 'B': 0})\n",
        "X_cancer = df_cancer.drop('diagnosis', axis=1)\n",
        "y_cancer = df_cancer['diagnosis']\n",
        "\n",
        "# Impute missing values with the mean of each column\n",
        "imputer = SimpleImputer(strategy='mean')\n",
        "X_cancer_imputed = imputer.fit_transform(X_cancer)\n",
        "\n",
        "# Split the dataset\n",
        "X_train_cancer, X_test_cancer, y_train_cancer, y_test_cancer = train_test_split(X_cancer_imputed, y_cancer, test_size=0.20, random_state=0)\n",
        "\n",
        "# Pre-process the data\n",
        "scaler_cancer = StandardScaler()\n",
        "X_train_cancer_scaled = scaler_cancer.fit_transform(X_train_cancer)\n",
        "X_test_cancer_scaled = scaler_cancer.transform(X_test_cancer)\n",
        "\n",
        "# Build the logistic regression model\n",
        "clf_cancer = LogisticRegression(max_iter=1000, penalty=None)\n",
        "\n",
        "# Train the model\n",
        "clf_cancer.fit(X_train_cancer_scaled, y_train_cancer)\n",
        "y_pred_cancer = clf_cancer.predict(X_test_cancer_scaled)\n",
        "\n",
        "# Report the results\n",
        "print(\"(a) Without weight penalty:\")\n",
        "print(\"Accuracy: \", accuracy_score(y_test_cancer, y_pred_cancer))\n",
        "print(\"Precision: \", precision_score(y_test_cancer, y_pred_cancer))\n",
        "print(\"Recall: \", recall_score(y_test_cancer, y_pred_cancer))\n",
        "print(\"F1 Score: \", f1_score(y_test_cancer, y_pred_cancer))\n",
        "\n",
        "# Plotting the confusion matrix\n",
        "conf_mat_cancer = confusion_matrix(y_test_cancer, y_pred_cancer)\n",
        "sns.heatmap(conf_mat_cancer, annot=True, fmt='d', cmap='Blues')\n",
        "plt.xlabel('Predicted labels')\n",
        "plt.ylabel('True labels')\n",
        "plt.title('Confusion Matrix Without Weight Penalty')\n",
        "plt.show()\n",
        "\n",
        "# (b) With weight penalty (L2 regularization)\n",
        "clf_cancer_penalty = LogisticRegression(max_iter=1000, penalty='l2')\n",
        "\n",
        "# Train the model\n",
        "clf_cancer_penalty.fit(X_train_cancer_scaled, y_train_cancer)\n",
        "y_pred_cancer_penalty = clf_cancer_penalty.predict(X_test_cancer_scaled)\n",
        "\n",
        "# Report the results\n",
        "print(\"(b) With weight penalty (L2 regularization):\")\n",
        "print(\"Accuracy: \", accuracy_score(y_test_cancer, y_pred_cancer_penalty))\n",
        "print(\"Precision: \", precision_score(y_test_cancer, y_pred_cancer_penalty))\n",
        "print(\"Recall: \", recall_score(y_test_cancer, y_pred_cancer_penalty))\n",
        "print(\"F1 Score: \", f1_score(y_test_cancer, y_pred_cancer_penalty))\n",
        "\n",
        "# Plotting the confusion matrix\n",
        "conf_mat_cancer_penalty = confusion_matrix(y_test_cancer, y_pred_cancer_penalty)\n",
        "sns.heatmap(conf_mat_cancer_penalty, annot=True, fmt='d', cmap='Reds')\n",
        "plt.xlabel('Predicted labels')\n",
        "plt.ylabel('True labels')\n",
        "plt.title('Confusion Matrix With Weight Penalty (L2 regularization)')\n",
        "plt.show()\n"
      ],
      "metadata": {
        "colab": {
          "base_uri": "https://localhost:8080/",
          "height": 1000
        },
        "id": "9KE2ueHDGwxn",
        "outputId": "6ad379db-e0c3-4d19-da22-8b1173c53e6a"
      },
      "execution_count": 8,
      "outputs": [
        {
          "output_type": "stream",
          "name": "stdout",
          "text": [
            "(a) Without weight penalty:\n",
            "Accuracy:  0.9385964912280702\n",
            "Precision:  0.9166666666666666\n",
            "Recall:  0.9361702127659575\n",
            "F1 Score:  0.9263157894736843\n"
          ]
        },
        {
          "output_type": "display_data",
          "data": {
            "text/plain": [
              "<Figure size 640x480 with 2 Axes>"
            ],
            "image/png": "[encoded data removed]"
          },
          "metadata": {}
        },
        {
          "output_type": "stream",
          "name": "stdout",
          "text": [
            "(b) With weight penalty (L2 regularization):\n",
            "Accuracy:  0.9649122807017544\n",
            "Precision:  0.9574468085106383\n",
            "Recall:  0.9574468085106383\n",
            "F1 Score:  0.9574468085106385\n"
          ]
        },
        {
          "output_type": "display_data",
          "data": {
            "text/plain": [
              "<Figure size 640x480 with 2 Axes>"
            ],
            "image/png": "[encoded data removed]"
          },
          "metadata": {}
        }
      ]
    },
    {
      "cell_type": "code",
      "source": [
        "# Problem 3\n",
        "\n",
        "import pandas as pd\n",
        "from sklearn.model_selection import train_test_split\n",
        "from sklearn.naive_bayes import GaussianNB\n",
        "from sklearn.metrics import accuracy_score, precision_score, recall_score, f1_score\n",
        "from sklearn.impute import SimpleImputer\n",
        "from sklearn.preprocessing import StandardScaler\n",
        "\n",
        "# Load the cancer dataset\n",
        "df_cancer = pd.read_csv('cancer.csv')\n",
        "df_cancer['diagnosis'] = df_cancer['diagnosis'].map({'M': 1, 'B': 0})\n",
        "X_cancer = df_cancer.drop('diagnosis', axis=1)\n",
        "y_cancer = df_cancer['diagnosis']\n",
        "\n",
        "# Handle missing values if any\n",
        "imputer = SimpleImputer(strategy='mean')\n",
        "X_cancer_imputed = imputer.fit_transform(X_cancer)\n",
        "\n",
        "# Split the dataset\n",
        "X_train_cancer, X_test_cancer, y_train_cancer, y_test_cancer = train_test_split(X_cancer_imputed, y_cancer, test_size=0.20, random_state=0)\n",
        "\n",
        "# Scale the dataset\n",
        "scaler = StandardScaler()\n",
        "X_train_cancer = scaler.fit_transform(X_train_cancer)\n",
        "X_test_cancer = scaler.transform(X_test_cancer)\n",
        "\n",
        "# Build the naive Bayesian model\n",
        "nb_classifier = GaussianNB()\n",
        "\n",
        "# Train the model\n",
        "nb_classifier.fit(X_train_cancer, y_train_cancer)\n",
        "y_pred_cancer = nb_classifier.predict(X_test_cancer)\n",
        "\n",
        "# Report the classification metrics\n",
        "print(\"Classification Accuracy: \", accuracy_score(y_test_cancer, y_pred_cancer))\n",
        "print(\"Precision: \", precision_score(y_test_cancer, y_pred_cancer))\n",
        "print(\"Recall: \", recall_score(y_test_cancer, y_pred_cancer))\n",
        "print(\"F1 Score: \", f1_score(y_test_cancer, y_pred_cancer))\n"
      ],
      "metadata": {
        "colab": {
          "base_uri": "https://localhost:8080/"
        },
        "id": "i_39uHqvIs1I",
        "outputId": "088820f3-1eb1-4beb-f217-2ed991a543fb"
      },
      "execution_count": 9,
      "outputs": [
        {
          "output_type": "stream",
          "name": "stdout",
          "text": [
            "Classification Accuracy:  0.9122807017543859\n",
            "Precision:  0.8775510204081632\n",
            "Recall:  0.9148936170212766\n",
            "F1 Score:  0.8958333333333333\n"
          ]
        }
      ]
    },
    {
      "cell_type": "code",
      "source": [
        "# Problem 4\n",
        "\n",
        "import pandas as pd\n",
        "from sklearn.model_selection import train_test_split\n",
        "from sklearn.preprocessing import StandardScaler\n",
        "from sklearn.decomposition import PCA\n",
        "from sklearn.linear_model import LogisticRegression\n",
        "from sklearn.metrics import accuracy_score, precision_score, recall_score, f1_score\n",
        "from sklearn.impute import SimpleImputer\n",
        "\n",
        "# Load the cancer dataset\n",
        "df_cancer = pd.read_csv('cancer.csv')\n",
        "df_cancer['diagnosis'] = df_cancer['diagnosis'].map({'M': 1, 'B': 0})\n",
        "X_cancer = df_cancer.drop('diagnosis', axis=1)\n",
        "y_cancer = df_cancer['diagnosis']\n",
        "\n",
        "# Impute missing values with the mean of each column\n",
        "imputer = SimpleImputer(strategy='mean')\n",
        "X_cancer_imputed = imputer.fit_transform(X_cancer)\n",
        "\n",
        "# Standardize the data (important for PCA)\n",
        "scaler = StandardScaler()\n",
        "X_cancer_scaled = scaler.fit_transform(X_cancer_imputed)\n",
        "\n",
        "# Split the dataset\n",
        "X_train_cancer, X_test_cancer, y_train_cancer, y_test_cancer = train_test_split(X_cancer_scaled, y_cancer, test_size=0.20, random_state=0)\n",
        "\n",
        "# Identify optimum number of K principal components\n",
        "max_features = X_cancer_scaled.shape[1]\n",
        "best_accuracy = 0\n",
        "best_k = 0\n",
        "best_precision = 0\n",
        "best_recall = 0\n",
        "best_f1 = 0\n",
        "\n",
        "for k in range(1, max_features + 1):\n",
        "    # Apply PCA and reduce features\n",
        "    pca = PCA(n_components=k)\n",
        "    X_train_pca = pca.fit_transform(X_train_cancer)\n",
        "    X_test_pca = pca.transform(X_test_cancer)\n",
        "\n",
        "    # Train a logistic regression model\n",
        "    clf = LogisticRegression(max_iter=1000)\n",
        "    clf.fit(X_train_pca, y_train_cancer)\n",
        "    y_pred = clf.predict(X_test_pca)\n",
        "\n",
        "    accuracy = accuracy_score(y_test_cancer, y_pred)\n",
        "    if accuracy > best_accuracy:\n",
        "        best_accuracy = accuracy\n",
        "        best_k = k\n",
        "        best_precision = precision_score(y_test_cancer, y_pred)\n",
        "        best_recall = recall_score(y_test_cancer, y_pred)\n",
        "        best_f1 = f1_score(y_test_cancer, y_pred)\n",
        "\n",
        "print(f\"Best K: {best_k}\")\n",
        "print(\"Accuracy for best K: \", best_accuracy)\n",
        "print(\"Precision for best K: \", best_precision)\n",
        "print(\"Recall for best K: \", best_recall)\n",
        "print(\"F1 Score for best K: \", best_f1)\n"
      ],
      "metadata": {
        "colab": {
          "base_uri": "https://localhost:8080/"
        },
        "id": "6Sgz3jdPKmPv",
        "outputId": "af884ea4-5175-4482-8627-b69721c0f14d"
      },
      "execution_count": 10,
      "outputs": [
        {
          "output_type": "stream",
          "name": "stdout",
          "text": [
            "Best K: 15\n",
            "Accuracy for best K:  0.9649122807017544\n",
            "Precision for best K:  0.9574468085106383\n",
            "Recall for best K:  0.9574468085106383\n",
            "F1 Score for best K:  0.9574468085106385\n"
          ]
        }
      ]
    },
    {
      "cell_type": "code",
      "source": [
        "# Problem 5\n",
        "\n",
        "import pandas as pd\n",
        "from sklearn.model_selection import train_test_split\n",
        "from sklearn.preprocessing import StandardScaler\n",
        "from sklearn.decomposition import PCA\n",
        "from sklearn.naive_bayes import GaussianNB\n",
        "from sklearn.metrics import accuracy_score, precision_score, recall_score, f1_score\n",
        "from sklearn.impute import SimpleImputer\n",
        "\n",
        "# Load the cancer dataset\n",
        "df_cancer = pd.read_csv('cancer.csv')\n",
        "df_cancer['diagnosis'] = df_cancer['diagnosis'].map({'M': 1, 'B': 0})\n",
        "X_cancer = df_cancer.drop('diagnosis', axis=1)\n",
        "y_cancer = df_cancer['diagnosis']\n",
        "\n",
        "# Impute missing values with the mean of each column\n",
        "imputer = SimpleImputer(strategy='mean')\n",
        "X_cancer_imputed = imputer.fit_transform(X_cancer)\n",
        "\n",
        "# Standardize the data (important for PCA)\n",
        "scaler = StandardScaler()\n",
        "X_cancer_scaled = scaler.fit_transform(X_cancer_imputed)\n",
        "\n",
        "# Split the dataset\n",
        "X_train_cancer, X_test_cancer, y_train_cancer, y_test_cancer = train_test_split(X_cancer_scaled, y_cancer, test_size=0.20, random_state=0)\n",
        "\n",
        "# Identify optimum number of K principal components\n",
        "max_features = X_cancer_scaled.shape[1]\n",
        "best_accuracy = 0\n",
        "best_k = 0\n",
        "best_precision = 0\n",
        "best_recall = 0\n",
        "best_f1 = 0\n",
        "\n",
        "for k in range(1, max_features + 1):\n",
        "    # Apply PCA and reduce features\n",
        "    pca = PCA(n_components=k)\n",
        "    X_train_pca = pca.fit_transform(X_train_cancer)\n",
        "    X_test_pca = pca.transform(X_test_cancer)\n",
        "\n",
        "    # Train a Naive Bayes classifier\n",
        "    clf = GaussianNB()\n",
        "    clf.fit(X_train_pca, y_train_cancer)\n",
        "    y_pred = clf.predict(X_test_pca)\n",
        "\n",
        "    accuracy = accuracy_score(y_test_cancer, y_pred)\n",
        "    if accuracy > best_accuracy:\n",
        "        best_accuracy = accuracy\n",
        "        best_k = k\n",
        "        best_precision = precision_score(y_test_cancer, y_pred)\n",
        "        best_recall = recall_score(y_test_cancer, y_pred)\n",
        "        best_f1 = f1_score(y_test_cancer, y_pred)\n",
        "\n",
        "print(f\"Best K: {best_k}\")\n",
        "print(\"Accuracy for best K: \", best_accuracy)\n",
        "print(\"Precision for best K: \", best_precision)\n",
        "print(\"Recall for best K: \", best_recall)\n",
        "print(\"F1 Score for best K: \", best_f1)\n"
      ],
      "metadata": {
        "id": "viTL0-d1MWrw",
        "outputId": "e82de3c6-e0be-40ae-ecfd-f1e51feffb47",
        "colab": {
          "base_uri": "https://localhost:8080/"
        }
      },
      "execution_count": 6,
      "outputs": [
        {
          "output_type": "stream",
          "name": "stdout",
          "text": [
            "Best K: 5\n",
            "Accuracy for best K:  0.9298245614035088\n",
            "Precision for best K:  0.9333333333333333\n",
            "Recall for best K:  0.8936170212765957\n",
            "F1 Score for best K:  0.9130434782608695\n"
          ]
        }
      ]
    }
  ]
}