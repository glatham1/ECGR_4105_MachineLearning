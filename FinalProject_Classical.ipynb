{
  "nbformat": 4,
  "nbformat_minor": 0,
  "metadata": {
    "colab": {
      "provenance": [],
      "authorship_tag": "ABX9TyMMIQCgeu17QQYz6WbCcOdY",
      "include_colab_link": true
    },
    "kernelspec": {
      "name": "python3",
      "display_name": "Python 3"
    },
    "language_info": {
      "name": "python"
    }
  },
  "cells": [
    {
      "cell_type": "markdown",
      "metadata": {
        "id": "view-in-github",
        "colab_type": "text"
      },
      "source": [
        "<a href=\"https://colab.research.google.com/github/glatham1/ECGR_4105_MachineLearning/blob/main/FinalProject_Classical.ipynb\" target=\"_parent\"><img src=\"https://colab.research.google.com/assets/colab-badge.svg\" alt=\"Open In Colab\"/></a>"
      ]
    },
    {
      "cell_type": "code",
      "source": [
        "import pandas as pd\n",
        "import numpy as np\n",
        "from sklearn.model_selection import train_test_split\n",
        "from sklearn.preprocessing import StandardScaler\n",
        "from sklearn.linear_model import LogisticRegression\n",
        "from sklearn.svm import SVC\n",
        "from sklearn.metrics import mean_squared_error, accuracy_score\n",
        "\n",
        "# Load data\n",
        "#drive.mount('/content/drive')\n",
        "#file_path = '/content/drive/My Drive/ML/Data_sets/train.csv'\n",
        "\n",
        "genres = pd.read_csv(\"train.csv\")\n",
        "genres = genres.fillna(0)\n",
        "\n",
        "# Preprocess data\n",
        "X = genres.iloc[:, 2:15].values\n",
        "y = genres.iloc[:, 16].values\n",
        "\n",
        "# Standardize data\n",
        "scaler_std = StandardScaler()\n",
        "X_std = scaler_std.fit_transform(X)\n",
        "\n",
        "# Split data\n",
        "X_train, X_test, y_train, y_test = train_test_split(X_std, y, test_size=0.2, random_state=0)\n",
        "\n",
        "# Initialize models\n",
        "log_reg = LogisticRegression(max_iter=1000, solver='lbfgs', C=1.0)\n",
        "svm = SVC(kernel='linear', C=1.0)\n",
        "\n",
        "# Fit models\n",
        "log_reg.fit(X_train, y_train)\n",
        "svm.fit(X_train, y_train)\n",
        "\n",
        "# Predict and evaluate models\n",
        "y_pred_log_reg = log_reg.predict(X_test)\n",
        "acc_log_reg = accuracy_score(y_test, y_pred_log_reg)\n",
        "print(\"Logistic Regression Accuracy:\", acc_log_reg)\n",
        "\n",
        "y_pred_svm = svm.predict(X_test)\n",
        "acc_svm = accuracy_score(y_test, y_pred_svm)\n",
        "print(\"SVM Accuracy:\", acc_svm)\n"
      ],
      "metadata": {
        "colab": {
          "base_uri": "https://localhost:8080/"
        },
        "id": "fefTfQMlAbjM",
        "outputId": "bc289598-3b88-44bd-9aeb-d01533b25bab"
      },
      "execution_count": 9,
      "outputs": [
        {
          "output_type": "stream",
          "name": "stdout",
          "text": [
            "Logistic Regression Accuracy: 0.5055555555555555\n",
            "SVM Accuracy: 0.5025\n"
          ]
        }
      ]
    }
  ]
}