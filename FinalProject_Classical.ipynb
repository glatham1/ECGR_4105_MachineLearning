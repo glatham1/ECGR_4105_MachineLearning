{
  "nbformat": 4,
  "nbformat_minor": 0,
  "metadata": {
    "colab": {
      "provenance": [],
      "authorship_tag": "ABX9TyO+GpJO3vutt2JIxP0HXRZz",
      "include_colab_link": true
    },
    "kernelspec": {
      "name": "python3",
      "display_name": "Python 3"
    },
    "language_info": {
      "name": "python"
    }
  },
  "cells": [
    {
      "cell_type": "markdown",
      "metadata": {
        "id": "view-in-github",
        "colab_type": "text"
      },
      "source": [
        "<a href=\"https://colab.research.google.com/github/glatham1/ECGR_4105_MachineLearning/blob/main/FinalProject_Classical.ipynb\" target=\"_parent\"><img src=\"https://colab.research.google.com/assets/colab-badge.svg\" alt=\"Open In Colab\"/></a>"
      ]
    },
    {
      "cell_type": "code",
      "execution_count": null,
      "metadata": {
        "id": "anaUWahxSB40"
      },
      "outputs": [],
      "source": [
        "import pandas as pd\n",
        "from sklearn.model_selection import train_test_split\n",
        "from sklearn.preprocessing import StandardScaler, MinMaxScaler\n",
        "from sklearn.linear_model import LinearRegression, LogisticRegression\n",
        "from sklearn.svm import SVM\n",
        "from sklearn.decomposition import PCA\n",
        "from sklearn.metrics import mean_squared_error, accuracy_score\n",
        "\n",
        "# Load data\n",
        "\n",
        "\n",
        "# Define features and target variable(s)\n",
        "\n",
        "\n",
        "# Preprocess data\n",
        "\n",
        "\n",
        "# Standardize data\n",
        "scaler_std = StandardScaler()\n",
        "X_scaled = scaler_std.fit_transform(X)\n",
        "\n",
        "# Normalize data\n",
        "scaler_norm = MinMaxScaler()\n",
        "X_normalized = scaler_norm.fit_transform(X)\n",
        "\n",
        "# Split data\n",
        "X_train, X_test, y_train, y_test = train_test_split(X_scaled, y, test_size=0.2, random_state=0)\n",
        "\n",
        "# Initialize models\n",
        "lr = LinearRegression()\n",
        "log_reg = LogisticRegression()\n",
        "svm = SVM(kernel='linear')\n",
        "pca = PCA(n_components=2) # Adjust number of components\n",
        "\n",
        "# Fit models\n",
        "lr.fit(X_train, y_train)\n",
        "log_reg.fit(X_train, y_train)\n",
        "svm.fit(X_train, y_train)\n",
        "X_train_pca = pca.fit_transform(X_train)\n",
        "X_test_pca = pca.transform(X_test)\n",
        "\n",
        "# Compare Models\n",
        "\n",
        "\n",
        "# Output\n",
        "\n"
      ]
    }
  ]
}